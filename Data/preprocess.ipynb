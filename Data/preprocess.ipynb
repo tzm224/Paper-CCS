{
 "cells": [
  {
   "cell_type": "code",
   "execution_count": 1,
   "id": "0d60834c",
   "metadata": {},
   "outputs": [],
   "source": [
    "import pandas as pd\n",
    "import numpy as np\n",
    "from sklearn.preprocessing import OneHotEncoder\n",
    "import re, os, csv\n",
    "import pickle\n",
    "file = 'combined_sm.csv'"
   ]
  },
  {
   "cell_type": "code",
   "execution_count": 2,
   "id": "e01319b3",
   "metadata": {},
   "outputs": [],
   "source": [
    "def ensure_dir(file_path):\n",
    "    directory = os.path.dirname(file_path)\n",
    "    if not os.path.exists(directory):\n",
    "        os.makedirs(directory)\n",
    "\n",
    "def split(data, name, s, label_encoder_path='data_file/enc.pickle', ids=None, calc_minval=True):\n",
    "    ensure_dir(name)\n",
    "    np.random.seed(s)\n",
    "    with open(label_encoder_path, 'rb') as handle:\n",
    "        label_encoder = pickle.load(handle)\n",
    "    data['encseq'] = data['Modified_sequence'].apply(lambda x: label_encoder.transform(list(x)))\n",
    "    if calc_minval:\n",
    "        data['minval'] = np.min(data['label'])\n",
    "        data['maxval'] = np.max(data['label'])\n",
    "    else:\n",
    "        data['minval']=275.440277\n",
    "        data['maxval']=1112.030762\n",
    "        \n",
    "    if ids == None:\n",
    "        #a = np.random.uniform(0.0,1.0,len(data)) > 0.98\n",
    "        data['test'] = data['PT']\n",
    "        print('Using proteome tools testsset')\n",
    "        \n",
    "    else:\n",
    "        print('using predefined testset')\n",
    "        data['test'] = ~data['Modified_sequence'].isin(ids)\n",
    "\n",
    "    data['task'] = 0\n",
    "    print('Name: ', name, 'Seed: ', s, 'Len test: ', len(data[data['test']]),'Len set test: ', len(set(data[data['test']])),'Len not test: ', len(data[~data['test']]),'Len set not test: ', len(set(data[~data['test']])))\n",
    "    data[~data['test']].to_pickle(name + str(s) + '_train.pkl')\n",
    "    data[data['test']].to_pickle(name +str(s) + '_test.pkl')\n",
    "    return data"
   ]
  },
  {
   "cell_type": "code",
   "execution_count": 3,
   "id": "d9fd9c3a",
   "metadata": {
    "scrolled": true
   },
   "outputs": [
    {
     "data": {
      "text/html": [
       "<div>\n",
       "<style scoped>\n",
       "    .dataframe tbody tr th:only-of-type {\n",
       "        vertical-align: middle;\n",
       "    }\n",
       "\n",
       "    .dataframe tbody tr th {\n",
       "        vertical-align: top;\n",
       "    }\n",
       "\n",
       "    .dataframe thead th {\n",
       "        text-align: right;\n",
       "    }\n",
       "</style>\n",
       "<table border=\"1\" class=\"dataframe\">\n",
       "  <thead>\n",
       "    <tr style=\"text-align: right;\">\n",
       "      <th></th>\n",
       "      <th>Modified_sequence</th>\n",
       "      <th>Charge</th>\n",
       "      <th>Mass</th>\n",
       "      <th>Intensity</th>\n",
       "      <th>Retention time</th>\n",
       "      <th>CCS</th>\n",
       "      <th>PT</th>\n",
       "    </tr>\n",
       "  </thead>\n",
       "  <tbody>\n",
       "    <tr>\n",
       "      <th>0</th>\n",
       "      <td>(ac)AAAAAAAAAAGAAGGR</td>\n",
       "      <td>2</td>\n",
       "      <td>1239.63200</td>\n",
       "      <td>149810.0</td>\n",
       "      <td>70.140</td>\n",
       "      <td>409.092529</td>\n",
       "      <td>False</td>\n",
       "    </tr>\n",
       "    <tr>\n",
       "      <th>1</th>\n",
       "      <td>(ac)AAAAAAAAEQQSSNGPVKK</td>\n",
       "      <td>2</td>\n",
       "      <td>1810.91734</td>\n",
       "      <td>21349.0</td>\n",
       "      <td>19.645</td>\n",
       "      <td>481.229248</td>\n",
       "      <td>True</td>\n",
       "    </tr>\n",
       "    <tr>\n",
       "      <th>2</th>\n",
       "      <td>(ac)AAAAAAAGAAGSAAPAAAAGAPGSGGAPSGSQGVLIGDR</td>\n",
       "      <td>3</td>\n",
       "      <td>3144.55482</td>\n",
       "      <td>194000.0</td>\n",
       "      <td>3947.700</td>\n",
       "      <td>772.098084</td>\n",
       "      <td>False</td>\n",
       "    </tr>\n",
       "    <tr>\n",
       "      <th>3</th>\n",
       "      <td>(ac)AAAAAAAGDSDSWDADAFSVEDPVRK</td>\n",
       "      <td>2</td>\n",
       "      <td>2634.18340</td>\n",
       "      <td>6416400.0</td>\n",
       "      <td>94.079</td>\n",
       "      <td>573.213196</td>\n",
       "      <td>False</td>\n",
       "    </tr>\n",
       "    <tr>\n",
       "      <th>4</th>\n",
       "      <td>(ac)AAAAAAAGDSDSWDADAFSVEDPVRK</td>\n",
       "      <td>3</td>\n",
       "      <td>2634.18340</td>\n",
       "      <td>5400600.0</td>\n",
       "      <td>94.841</td>\n",
       "      <td>635.000549</td>\n",
       "      <td>False</td>\n",
       "    </tr>\n",
       "  </tbody>\n",
       "</table>\n",
       "</div>"
      ],
      "text/plain": [
       "                             Modified_sequence  Charge        Mass  Intensity  \\\n",
       "0                         (ac)AAAAAAAAAAGAAGGR       2  1239.63200   149810.0   \n",
       "1                      (ac)AAAAAAAAEQQSSNGPVKK       2  1810.91734    21349.0   \n",
       "2  (ac)AAAAAAAGAAGSAAPAAAAGAPGSGGAPSGSQGVLIGDR       3  3144.55482   194000.0   \n",
       "3               (ac)AAAAAAAGDSDSWDADAFSVEDPVRK       2  2634.18340  6416400.0   \n",
       "4               (ac)AAAAAAAGDSDSWDADAFSVEDPVRK       3  2634.18340  5400600.0   \n",
       "\n",
       "   Retention time         CCS     PT  \n",
       "0          70.140  409.092529  False  \n",
       "1          19.645  481.229248   True  \n",
       "2        3947.700  772.098084  False  \n",
       "3          94.079  573.213196  False  \n",
       "4          94.841  635.000549  False  "
      ]
     },
     "execution_count": 3,
     "metadata": {},
     "output_type": "execute_result"
    }
   ],
   "source": [
    "data = pd.read_csv(file)\n",
    "data = data.drop('Unnamed: 0', axis = 1)\n",
    "# print(data.head())\n",
    "data = data.rename(index = str, columns = {\"Modified sequence\": \"Modified_sequence\"})\n",
    "data[\"Modified_sequence\"] = data[\"Modified_sequence\"].str.replace('_', '')\n",
    "data.head()"
   ]
  },
  {
   "cell_type": "code",
   "execution_count": 4,
   "id": "c32cbd57",
   "metadata": {},
   "outputs": [],
   "source": [
    "from sklearn.preprocessing import LabelEncoder, StandardScaler, OneHotEncoder\n",
    "dat = data[\"Modified_sequence\"]\n",
    "dat = [list(d) for d in dat]\n",
    "\n",
    "flat_list = ['_'] + [item for sublist in dat for item in sublist]\n",
    "values = np.array(flat_list)\n",
    "\n",
    "label_encoder = LabelEncoder()\n",
    "label_encoder.fit(values)\n",
    "ensure_dir('data_file/enc.pickle')\n",
    "ensure_dir('data_file/enc_list.csv')\n",
    "with open('data_file/enc.pickle', 'wb') as handle:\n",
    "    pickle.dump(label_encoder, handle)\n",
    "import csv\n",
    "with open('data_file/enc_list.csv', 'w') as myfile:\n",
    "    wr = csv.writer(myfile, quoting=csv.QUOTE_ALL)\n",
    "    wr.writerow(list(label_encoder.classes_))"
   ]
  },
  {
   "cell_type": "code",
   "execution_count": 5,
   "id": "456470ff",
   "metadata": {},
   "outputs": [
    {
     "name": "stdout",
     "output_type": "stream",
     "text": [
      "['(' ')' 'A' 'C' 'D' 'E' 'F' 'G' 'H' 'I' 'K' 'L' 'M' 'N' 'P' 'Q' 'R' 'S'\n",
      " 'T' 'V' 'W' 'Y' '_' 'a' 'c' 'o' 'x'] 27\n",
      "[22] 22\n"
     ]
    },
    {
     "name": "stderr",
     "output_type": "stream",
     "text": [
      "E:\\anaconda3\\Lib\\site-packages\\sklearn\\preprocessing\\_label.py:132: DataConversionWarning: A column-vector y was passed when a 1d array was expected. Please change the shape of y to (n_samples, ), for example using ravel().\n",
      "  y = column_or_1d(y, dtype=self.classes_.dtype, warn=True)\n"
     ]
    }
   ],
   "source": [
    "print(label_encoder.classes_, len(label_encoder.classes_))\n",
    "# ['_']在编码器中的数值表示\n",
    "print(label_encoder.transform([['_']]), 22)"
   ]
  },
  {
   "cell_type": "code",
   "execution_count": 6,
   "id": "c43879c7",
   "metadata": {},
   "outputs": [
    {
     "data": {
      "text/plain": [
       "(718917, 7)"
      ]
     },
     "execution_count": 6,
     "metadata": {},
     "output_type": "execute_result"
    }
   ],
   "source": [
    "data.shape"
   ]
  },
  {
   "cell_type": "code",
   "execution_count": 8,
   "id": "94736bd0",
   "metadata": {},
   "outputs": [
    {
     "name": "stdout",
     "output_type": "stream",
     "text": [
      "Using proteome tools testsset\n",
      "Name:  ./ Seed:  2 Len test:  185248 Len set test:  13 Len not test:  533669 Len set not test:  13\n"
     ]
    }
   ],
   "source": [
    "data = data[~data['Intensity'].isnull()]\n",
    "data = data[~data['CCS'].isnull()]\n",
    "d = data\n",
    "d['label'] = d['CCS'].values.tolist()\n",
    "outpath = './'\n",
    "d = split(d, outpath, 2)"
   ]
  },
  {
   "cell_type": "code",
   "execution_count": null,
   "id": "489402b8",
   "metadata": {},
   "outputs": [],
   "source": [
    "d.head()\n",
    "d.to_csv('data_final.csv')"
   ]
  }
 ],
 "metadata": {
  "kernelspec": {
   "display_name": "Python 3 (ipykernel)",
   "language": "python",
   "name": "python3"
  },
  "language_info": {
   "codemirror_mode": {
    "name": "ipython",
    "version": 3
   },
   "file_extension": ".py",
   "mimetype": "text/x-python",
   "name": "python",
   "nbconvert_exporter": "python",
   "pygments_lexer": "ipython3",
   "version": "3.11.5"
  }
 },
 "nbformat": 4,
 "nbformat_minor": 5
}
